{
 "cells": [
  {
   "cell_type": "code",
   "execution_count": 1,
   "id": "f9a32404",
   "metadata": {},
   "outputs": [],
   "source": [
    "#Rastrear dados de vendas\n",
    "\n",
    "#Comparamos jeans_sold com a target para ver se o varejista atingiu a meta de vendas. \n",
    "#Verificamos se ha jeans em estoque. \n"
   ]
  },
  {
   "cell_type": "code",
   "execution_count": 5,
   "id": "b745cc89",
   "metadata": {},
   "outputs": [],
   "source": [
    "stock = 600\n",
    "jeans_sold = 500\n",
    "target = 500"
   ]
  },
  {
   "cell_type": "code",
   "execution_count": 6,
   "id": "b9a5a5d8",
   "metadata": {},
   "outputs": [
    {
     "name": "stdout",
     "output_type": "stream",
     "text": [
      "Hit jeans sale target: \n",
      "True\n"
     ]
    }
   ],
   "source": [
    "target_hit = jeans_sold == target\n",
    "print (\"Hit jeans sale target: \")\n",
    "print (target_hit)"
   ]
  },
  {
   "cell_type": "code",
   "execution_count": 7,
   "id": "4f00dfd9",
   "metadata": {},
   "outputs": [
    {
     "name": "stdout",
     "output_type": "stream",
     "text": [
      "Jeans in stock:\n",
      "True\n"
     ]
    }
   ],
   "source": [
    "current_stock = stock - jeans_sold\n",
    "in_stock = current_stock != 0\n",
    "print (\"Jeans in stock:\")\n",
    "print(in_stock)"
   ]
  },
  {
   "cell_type": "code",
   "execution_count": 8,
   "id": "e1362b6a",
   "metadata": {},
   "outputs": [
    {
     "data": {
      "text/plain": [
       "True"
      ]
     },
     "execution_count": 8,
     "metadata": {},
     "output_type": "execute_result"
    }
   ],
   "source": [
    "jeans_sold == target"
   ]
  },
  {
   "cell_type": "code",
   "execution_count": 9,
   "id": "37c7b7b6",
   "metadata": {},
   "outputs": [],
   "source": []
  },
  {
   "cell_type": "code",
   "execution_count": null,
   "id": "53818b51",
   "metadata": {},
   "outputs": [],
   "source": []
  }
 ],
 "metadata": {
  "kernelspec": {
   "display_name": "Python 3 (ipykernel)",
   "language": "python",
   "name": "python3"
  },
  "language_info": {
   "codemirror_mode": {
    "name": "ipython",
    "version": 3
   },
   "file_extension": ".py",
   "mimetype": "text/x-python",
   "name": "python",
   "nbconvert_exporter": "python",
   "pygments_lexer": "ipython3",
   "version": "3.9.13"
  }
 },
 "nbformat": 4,
 "nbformat_minor": 5
}
